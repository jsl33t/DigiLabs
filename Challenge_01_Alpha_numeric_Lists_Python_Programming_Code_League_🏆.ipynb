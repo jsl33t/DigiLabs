{
  "nbformat": 4,
  "nbformat_minor": 0,
  "metadata": {
    "colab": {
      "provenance": [],
      "toc_visible": true,
      "include_colab_link": true
    },
    "kernelspec": {
      "name": "python3",
      "display_name": "Python 3"
    },
    "language_info": {
      "name": "python"
    }
  },
  "cells": [
    {
      "cell_type": "markdown",
      "metadata": {
        "id": "view-in-github",
        "colab_type": "text"
      },
      "source": [
        "<a href=\"https://colab.research.google.com/github/jsl33t/DigiLabs/blob/main/Challenge_01_Alpha_numeric_Lists_Python_Programming_Code_League_%F0%9F%8F%86.ipynb\" target=\"_parent\"><img src=\"https://colab.research.google.com/assets/colab-badge.svg\" alt=\"Open In Colab\"/></a>"
      ]
    },
    {
      "cell_type": "markdown",
      "source": [
        "# **Python Programming Code League** 🏆\n",
        "\n",
        "Task: Write a function to find the second largest number in a given list for the three lists. \n",
        "\n",
        "This whole task is worth 100 points.\n",
        "\n",
        "Task 1: 30 points\n",
        "\n",
        "Task 2: 30 points\n",
        "\n",
        "Task 3: 40 points\n",
        "\n",
        "First five to submit per school will recieve an additional 10 points!\n",
        "\n",
        "------\n",
        "\n",
        "**Background of Problem**\n",
        "\n",
        "This a common programming problem that is often used in technical interviews to test a candidate's ability to write efficient and effective code to solve a given problem.\n",
        "\n",
        "This problem tests your understanding of array and list manipulation, as well as their ability to write clear and concise code using loops and conditional statements.\n",
        "\n",
        "The solution to this problem requires iterating through the list and comparing each element with the largest element found so far. When a new largest element is found, the previous largest element is stored in a variable, and the iteration continues until the end of the list is reached. The second largest element is then returned.\n",
        "\n",
        "This problem is also a good exercise for you to improve your algorithmic thinking and problem-solving skills in Python, as it involves breaking down a complex problem into smaller, more manageable steps and identifying the appropriate logic to implement the solution! 🌟"
      ],
      "metadata": {
        "id": "jCl85Mr5k8OF"
      }
    },
    {
      "cell_type": "markdown",
      "source": [
        "#Error and Bug Reporting 👻\n",
        "\n",
        "If you face any errors or bugs in the code, please send an email to Niki at niki.lee@sustainablelivinglab.org !"
      ],
      "metadata": {
        "id": "oCeSe-K1aMfo"
      }
    },
    {
      "cell_type": "markdown",
      "source": [
        "##Task 1 List\n",
        "\n",
        "The first list of numbers is, 1, 30, 49, 21, 4"
      ],
      "metadata": {
        "id": "fkIxqXtblXSa"
      }
    },
    {
      "cell_type": "code",
      "source": [
        "#Enter your code here with the relevant comments to explain your code\n",
        "list1 = \"1, 30, 49, 21, 4\"\n",
        "print (list1)\n",
        "\n"
      ],
      "metadata": {
        "id": "6JlEMTwhlbUk",
        "colab": {
          "base_uri": "https://localhost:8080/",
          "height": 0
        },
        "outputId": "d0c1da0b-0188-4d15-a934-87b4240faecc"
      },
      "execution_count": 12,
      "outputs": [
        {
          "output_type": "stream",
          "name": "stdout",
          "text": [
            "1, 30, 49, 21, 4\n"
          ]
        }
      ]
    },
    {
      "cell_type": "markdown",
      "source": [
        "##Task 2 List\n",
        "\n",
        "The first list of numbers is, 10000000, 30, 49, 21, 4, -1, 49"
      ],
      "metadata": {
        "id": "Jmhi_p5hlguj"
      }
    },
    {
      "cell_type": "code",
      "source": [
        "#Enter your code here with the relevant comments to explain your code\n",
        "list2 = \"10000000, 30, 49, 21, 4, -1, 49\"\n",
        "print (list2)"
      ],
      "metadata": {
        "id": "vV0jAIV1ll3k",
        "colab": {
          "base_uri": "https://localhost:8080/",
          "height": 0
        },
        "outputId": "4e3fc872-ec08-4a38-ab1a-df7bc53d9f27"
      },
      "execution_count": 11,
      "outputs": [
        {
          "output_type": "stream",
          "name": "stdout",
          "text": [
            "10000000, 30, 49, 21, 4, -1, 49\n"
          ]
        }
      ]
    },
    {
      "cell_type": "markdown",
      "source": [
        "##Task 3 List\n",
        "\n",
        "The first list of numbers is, 20, 3O, 1, 0, 2, 1, 1, 1"
      ],
      "metadata": {
        "id": "yA_2k-Z9lnQJ"
      }
    },
    {
      "cell_type": "code",
      "source": [
        "#Enter your code here with the relevant comments to explain your code\n",
        "\n",
        "list3 = \"20, 3O, 1, 0, 2, 1, 1, 1\"\n",
        "print (list3)\n"
      ],
      "metadata": {
        "id": "3FoKt9urlnZA",
        "colab": {
          "base_uri": "https://localhost:8080/",
          "height": 0
        },
        "outputId": "68850917-c548-4ea0-9814-d8590793fb76"
      },
      "execution_count": 40,
      "outputs": [
        {
          "output_type": "stream",
          "name": "stdout",
          "text": [
            "20, 3O, 1, 0, 2, 1, 1, 1\n"
          ]
        }
      ]
    },
    {
      "cell_type": "markdown",
      "source": [
        "##Congratuations! 🏆\n",
        "\n",
        "Good luck and happy programming! 👍 \n",
        "\n",
        "Please turn them in to the respective Week's (Foundational Week 1) content drive on the SIF Portal when completed!"
      ],
      "metadata": {
        "id": "99lsKTSylxnr"
      }
    },
    {
      "cell_type": "markdown",
      "source": [
        "# New Section"
      ],
      "metadata": {
        "id": "Ml1jHTNHbG2m"
      }
    }
  ]
}